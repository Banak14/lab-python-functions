{
 "cells": [
  {
   "cell_type": "markdown",
   "id": "25d7736c-ba17-4aff-b6bb-66eba20fbf4e",
   "metadata": {},
   "source": [
    "# Lab | Functions"
   ]
  },
  {
   "cell_type": "markdown",
   "id": "0c581062-8967-4d93-b06e-62833222f930",
   "metadata": {
    "tags": []
   },
   "source": [
    "## Exercise: Managing Customer Orders with Functions\n",
    "\n",
    "In the previous exercise, you improved the code for managing customer orders by using loops and flow control. Now, let's take it a step further and refactor the code by introducing functions.\n",
    "\n",
    "Follow the steps below to complete the exercise:\n",
    "\n",
    "1. Define a function named `initialize_inventory` that takes `products` as a parameter. Inside the function, implement the code for initializing the inventory dictionary using a loop and user input.\n",
    "\n",
    "2. Define a function named `get_customer_orders` that takes no parameters. Inside the function, implement the code for prompting the user to enter the product names using a loop. The function should return the `customer_orders` set.\n",
    "\n",
    "3. Define a function named `update_inventory` that takes `customer_orders` and `inventory` as parameters. Inside the function, implement the code for updating the inventory dictionary based on the customer orders.\n",
    "\n",
    "4. Define a function named `calculate_order_statistics` that takes `customer_orders` and `products` as parameters. Inside the function, implement the code for calculating the order statistics (total products ordered, and percentage of unique products ordered). The function should return these values.\n",
    "\n",
    "5. Define a function named `print_order_statistics` that takes `order_statistics` as a parameter. Inside the function, implement the code for printing the order statistics.\n",
    "\n",
    "6. Define a function named `print_updated_inventory` that takes `inventory` as a parameter. Inside the function, implement the code for printing the updated inventory.\n",
    "\n",
    "7. Call the functions in the appropriate sequence to execute the program and manage customer orders.\n",
    "\n",
    "Hints for functions:\n",
    "\n",
    "- Consider the input parameters required for each function and their return values.\n",
    "- Utilize function parameters and return values to transfer data between functions.\n",
    "- Test your functions individually to ensure they work correctly.\n",
    "\n",
    "\n"
   ]
  },
  {
   "cell_type": "code",
   "execution_count": 1,
   "id": "27ec0466-7cae-4f8b-b876-ac141b8989cd",
   "metadata": {},
   "outputs": [
    {
     "name": "stdin",
     "output_type": "stream",
     "text": [
      "Enter the quantity for t-shirt:  4\n",
      "Enter the quantity for mug:  4\n",
      "Enter the quantity for hat:  4\n",
      "Enter the quantity for book:  4\n",
      "Enter the quantity for keychain:  4\n",
      "Please select a product:  mug\n",
      "Do you want to add another product? (yes/no):  yes\n",
      "Please select a product:  book\n",
      "Do you want to add another product? (yes/no):  no\n"
     ]
    },
    {
     "name": "stdout",
     "output_type": "stream",
     "text": [
      "Order Statistics:\n",
      "Total Products Ordered: 6\n",
      "Percentage of Inventory Ordered: 33.33%\n",
      "Updated Inventory:\n",
      "t-shirt: 4\n",
      "mug: 3\n",
      "hat: 4\n",
      "book: 3\n",
      "keychain: 4\n"
     ]
    }
   ],
   "source": [
    "#1\n",
    "\n",
    "def initialize_inventory(products):\n",
    "    inventory = {}\n",
    "    for product in products:\n",
    "        quantity = int(input(f\"Enter the quantity for {product}: \"))\n",
    "        inventory[product] = quantity\n",
    "    return inventory\n",
    "\n",
    "\n",
    "#2\n",
    "def get_customer_orders():\n",
    "    customer_orders = set()\n",
    "    while True:\n",
    "        choice = input(\"Please select a product: \").lower()\n",
    "        if choice in products and choice not in customer_orders:\n",
    "            customer_orders.add(choice)\n",
    "            add_more = input(\"Do you want to add another product? (yes/no): \").lower()\n",
    "            if add_more != \"yes\":\n",
    "                break\n",
    "        elif choice not in products:\n",
    "            print(\"This product is not in the list.\")\n",
    "        else:\n",
    "            print(\"You have already chosen this product.\")\n",
    "    return customer_orders\n",
    "\n",
    "#3\n",
    "\n",
    "def update_inventory(customer_orders, inventory):\n",
    "    for product in customer_orders:\n",
    "        inventory[product] -= 1\n",
    "\n",
    "#4\n",
    "\n",
    "def calculate_order_statistics(customer_orders, inventory):\n",
    "    total_quantity_ordered = sum(inventory[product] for product in customer_orders)\n",
    "    total_available_products = sum(inventory.values())\n",
    "    percentage_ordered = (total_quantity_ordered / total_available_products) * 100\n",
    "    return {\n",
    "        \"total_products_ordered\": total_quantity_ordered,\n",
    "        \"percentage_ordered\": percentage_ordered\n",
    "    }\n",
    "\n",
    "\n",
    "#5\n",
    "\n",
    "def print_order_statistics(order_statistics):\n",
    "    print(\"Order Statistics:\")\n",
    "    print(f\"Total Products Ordered: {order_statistics['total_products_ordered']}\")\n",
    "    print(f\"Percentage of Inventory Ordered: {order_statistics['percentage_ordered']:.2f}%\")\n",
    "\n",
    "#6\n",
    "\n",
    "def print_updated_inventory(inventory):\n",
    "    print(\"Updated Inventory:\")\n",
    "    for product, quantity in inventory.items():\n",
    "        print(f\"{product}: {quantity}\")\n",
    "#7\n",
    "\n",
    "products = [\"t-shirt\", \"mug\", \"hat\", \"book\", \"keychain\"]\n",
    "\n",
    "# Step 1: Initialize inventory\n",
    "inventory = initialize_inventory(products)\n",
    "\n",
    "# Step 2: Get customer orders\n",
    "customer_orders = get_customer_orders()\n",
    "\n",
    "# Step 3: Update inventory based on customer orders\n",
    "update_inventory(customer_orders, inventory)\n",
    "\n",
    "# Step 4: Calculate order statistics\n",
    "order_statistics = calculate_order_statistics(customer_orders, inventory)\n",
    "\n",
    "# Step 5: Print order statistics\n",
    "print_order_statistics(order_statistics)\n",
    "\n",
    "# Step 6: Print the updated inventory\n",
    "print_updated_inventory(inventory)\n",
    "\n"
   ]
  },
  {
   "cell_type": "code",
   "execution_count": null,
   "id": "31e880ed-6123-4e11-9bd8-90086337ecb8",
   "metadata": {},
   "outputs": [],
   "source": []
  }
 ],
 "metadata": {
  "kernelspec": {
   "display_name": "Python 3 (ipykernel)",
   "language": "python",
   "name": "python3"
  },
  "language_info": {
   "codemirror_mode": {
    "name": "ipython",
    "version": 3
   },
   "file_extension": ".py",
   "mimetype": "text/x-python",
   "name": "python",
   "nbconvert_exporter": "python",
   "pygments_lexer": "ipython3",
   "version": "3.12.4"
  }
 },
 "nbformat": 4,
 "nbformat_minor": 5
}
